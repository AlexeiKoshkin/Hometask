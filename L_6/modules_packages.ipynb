{
 "cells": [
  {
   "cell_type": "markdown",
   "metadata": {},
   "source": [
    "Modular programming refers to the process of breaking a large, unwieldy programming task into separate, smaller, more manageable subtasks or modules\n",
    "\n",
    "# Why?\n",
    "1. Простота\n",
    "1. Легкость поддержки\n",
    "1. Переиспользование\n",
    "1. Ограниченность видимости (Scope)\n",
    "\n",
    "# How?\n",
    "1. На Python \n",
    "1. На C\n",
    "1. Встроенные в интерпретатор"
   ]
  },
  {
   "cell_type": "code",
   "execution_count": 1,
   "metadata": {},
   "outputs": [],
   "source": [
    "# my_mod.py\n",
    "\n",
    "MY_CONST = 123\n",
    "my_string = '123'\n",
    "my_dict = {'a_key': 'the value'}\n",
    "def my_func():\n",
    "    print('What was printed from my func')\n",
    "\n",
    "class MyClass:\n",
    "    my_property = 'my property'\n",
    "    \n",
    "    def my_method(self, inp):\n",
    "        print(self.my_property + ' ' + inp)\n",
    "# import my_mod"
   ]
  },
  {
   "cell_type": "markdown",
   "metadata": {},
   "source": [
    "# Module search\n",
    "\n",
    "1. Папка с самим скриптом\n",
    "1. Переменная **PYTHONPATH**\n",
    "1. Список папок, указанных при установке **python**"
   ]
  },
  {
   "cell_type": "code",
   "execution_count": 3,
   "metadata": {},
   "outputs": [
    {
     "data": {
      "text/plain": [
       "['',\n",
       " 'E:\\\\course\\\\v2\\\\lesson6',\n",
       " 'C:\\\\Program Files\\\\Python37\\\\python37.zip',\n",
       " 'C:\\\\Program Files\\\\Python37\\\\DLLs',\n",
       " 'C:\\\\Program Files\\\\Python37\\\\lib',\n",
       " 'C:\\\\Program Files\\\\Python37',\n",
       " 'e:\\\\course\\\\v2\\\\env',\n",
       " 'e:\\\\course\\\\v2\\\\env\\\\lib\\\\site-packages',\n",
       " 'e:\\\\course\\\\v2\\\\env\\\\lib\\\\site-packages\\\\IPython\\\\extensions',\n",
       " 'C:\\\\Users\\\\course\\\\.ipython']"
      ]
     },
     "execution_count": 3,
     "metadata": {},
     "output_type": "execute_result"
    }
   ],
   "source": [
    "import sys\n",
    "sys.path"
   ]
  },
  {
   "cell_type": "markdown",
   "metadata": {},
   "source": [
    "## Чтобы модуль нашелся\n",
    "\n",
    "1. Положить его рядом со скриптом\n",
    "1. Положить в папку из sys.path\n",
    "1. Добавить папку в sys.path"
   ]
  },
  {
   "cell_type": "code",
   "execution_count": 4,
   "metadata": {},
   "outputs": [],
   "source": [
    "# sys.path.append(r'C:\\the_path')"
   ]
  },
  {
   "cell_type": "markdown",
   "metadata": {},
   "source": [
    "## Где модуль расположен?"
   ]
  },
  {
   "cell_type": "code",
   "execution_count": 5,
   "metadata": {},
   "outputs": [],
   "source": [
    "import calendar"
   ]
  },
  {
   "cell_type": "code",
   "execution_count": 6,
   "metadata": {},
   "outputs": [
    {
     "data": {
      "text/plain": [
       "'C:\\\\Program Files\\\\Python37\\\\lib\\\\calendar.py'"
      ]
     },
     "execution_count": 6,
     "metadata": {},
     "output_type": "execute_result"
    }
   ],
   "source": [
    "calendar.__file__"
   ]
  },
  {
   "cell_type": "markdown",
   "metadata": {},
   "source": [
    "# Как (еще) можно импортировать модуль?"
   ]
  },
  {
   "cell_type": "markdown",
   "metadata": {},
   "source": [
    "```python\n",
    "import <module_name> # не делает елементы доступными, создает namespase\n",
    "# Доступ через \"dot notation\" module.element\n",
    "```"
   ]
  },
  {
   "cell_type": "markdown",
   "metadata": {},
   "source": [
    "```python\n",
    "from <module_name> import <name(s)> # делает елементы доступными\n",
    "```"
   ]
  },
  {
   "cell_type": "markdown",
   "metadata": {},
   "source": [
    "```python\n",
    "from <module_name> import * # делает елементы доступными (все)\n",
    "```"
   ]
  },
  {
   "cell_type": "markdown",
   "metadata": {},
   "source": [
    "```python\n",
    "from <module_name> import <name> as <alias> # делает елемент доступным в новом namespace\n",
    "```"
   ]
  },
  {
   "cell_type": "code",
   "execution_count": 10,
   "metadata": {},
   "outputs": [],
   "source": [
    "# наш любимый dir()"
   ]
  },
  {
   "cell_type": "markdown",
   "metadata": {},
   "source": [
    "# Модуль можно запустить (это скрипт)"
   ]
  },
  {
   "cell_type": "markdown",
   "metadata": {},
   "source": [
    "```python\n",
    "# add some prints to my_mod.py\n",
    "\n",
    "MY_CONST = 123\n",
    "my_string = '123'\n",
    "my_dict = {'a_key': 'the value'}\n",
    "def my_func():\n",
    "    print('What was printed from my func')\n",
    "print(\"This is my module\")\n",
    "class MyClass:\n",
    "    my_property = 'my property'\n",
    "    \n",
    "    def my_method(self, inp):\n",
    "        print(self.my_property + ' ' + inp)\n",
    "# import my_mod\n",
    "```"
   ]
  },
  {
   "cell_type": "code",
   "execution_count": 12,
   "metadata": {},
   "outputs": [],
   "source": [
    "# we need __main__"
   ]
  },
  {
   "cell_type": "markdown",
   "metadata": {},
   "source": [
    "# Packages\n",
    "\n",
    "Packages allow for a hierarchical structuring of the module namespace using dot notation. \n",
    "\n",
    "```\n",
    " Pkg\\\n",
    "   -Module1\n",
    "   -Module2\n",
    "```"
   ]
  },
  {
   "cell_type": "markdown",
   "metadata": {},
   "source": [
    "Можно импортировать пакет но...\n",
    "```\n",
    "    __init__.py - инициализация пакета\n",
    "    __all__ - кого импортировать?\n",
    "```"
   ]
  },
  {
   "cell_type": "code",
   "execution_count": null,
   "metadata": {},
   "outputs": [],
   "source": []
  }
 ],
 "metadata": {
  "kernelspec": {
   "display_name": "Python 3",
   "language": "python",
   "name": "python3"
  },
  "language_info": {
   "codemirror_mode": {
    "name": "ipython",
    "version": 3
   },
   "file_extension": ".py",
   "mimetype": "text/x-python",
   "name": "python",
   "nbconvert_exporter": "python",
   "pygments_lexer": "ipython3",
   "version": "3.7.2"
  }
 },
 "nbformat": 4,
 "nbformat_minor": 2
}
