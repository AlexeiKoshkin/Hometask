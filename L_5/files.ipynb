{
 "cells": [
  {
   "cell_type": "markdown",
   "metadata": {},
   "source": [
    "# Работа с файлами\n",
    "## Два типа файлов(данных)\n",
    " - Текстовые\n",
    " - Бинарные"
   ]
  },
  {
   "cell_type": "code",
   "execution_count": 2,
   "metadata": {},
   "outputs": [],
   "source": [
    "fp = open('textfile.txt', 'r')"
   ]
  },
  {
   "cell_type": "code",
   "execution_count": 3,
   "metadata": {},
   "outputs": [
    {
     "data": {
      "text/plain": [
       "_io.TextIOWrapper"
      ]
     },
     "execution_count": 3,
     "metadata": {},
     "output_type": "execute_result"
    }
   ],
   "source": [
    "type(fp)"
   ]
  },
  {
   "cell_type": "code",
   "execution_count": 4,
   "metadata": {},
   "outputs": [
    {
     "data": {
      "text/plain": [
       "'line1\\nline2\\nline3'"
      ]
     },
     "execution_count": 4,
     "metadata": {},
     "output_type": "execute_result"
    }
   ],
   "source": [
    "fp.read() # -1 = default and all "
   ]
  },
  {
   "cell_type": "code",
   "execution_count": 5,
   "metadata": {},
   "outputs": [
    {
     "data": {
      "text/plain": [
       "''"
      ]
     },
     "execution_count": 5,
     "metadata": {},
     "output_type": "execute_result"
    }
   ],
   "source": [
    "fp.read()"
   ]
  },
  {
   "cell_type": "code",
   "execution_count": 7,
   "metadata": {},
   "outputs": [
    {
     "data": {
      "text/plain": [
       "'e1\\nline2\\nline3'"
      ]
     },
     "execution_count": 7,
     "metadata": {},
     "output_type": "execute_result"
    }
   ],
   "source": [
    "n = 0 # start position in bytes\n",
    "fp.seek(3) # Change the stream position to the given byte offset (n).\n",
    "fp.read() # прочитать "
   ]
  },
  {
   "cell_type": "code",
   "execution_count": 8,
   "metadata": {},
   "outputs": [
    {
     "data": {
      "text/plain": [
       "'line1\\n'"
      ]
     },
     "execution_count": 8,
     "metadata": {},
     "output_type": "execute_result"
    }
   ],
   "source": [
    "n = 0\n",
    "fp.seek(n)\n",
    "fp.readline() # read a single line"
   ]
  },
  {
   "cell_type": "code",
   "execution_count": 9,
   "metadata": {},
   "outputs": [
    {
     "data": {
      "text/plain": [
       "'line2\\n'"
      ]
     },
     "execution_count": 9,
     "metadata": {},
     "output_type": "execute_result"
    }
   ],
   "source": [
    "fp.readline()"
   ]
  },
  {
   "cell_type": "code",
   "execution_count": 10,
   "metadata": {},
   "outputs": [
    {
     "data": {
      "text/plain": [
       "'line3'"
      ]
     },
     "execution_count": 10,
     "metadata": {},
     "output_type": "execute_result"
    }
   ],
   "source": [
    "fp.readline()"
   ]
  },
  {
   "cell_type": "code",
   "execution_count": 11,
   "metadata": {},
   "outputs": [
    {
     "data": {
      "text/plain": [
       "''"
      ]
     },
     "execution_count": 11,
     "metadata": {},
     "output_type": "execute_result"
    }
   ],
   "source": [
    "fp.readline()"
   ]
  },
  {
   "cell_type": "code",
   "execution_count": 13,
   "metadata": {},
   "outputs": [
    {
     "data": {
      "text/plain": [
       "['_CHUNK_SIZE',\n",
       " '__class__',\n",
       " '__del__',\n",
       " '__delattr__',\n",
       " '__dict__',\n",
       " '__dir__',\n",
       " '__doc__',\n",
       " '__enter__',\n",
       " '__eq__',\n",
       " '__exit__',\n",
       " '__format__',\n",
       " '__ge__',\n",
       " '__getattribute__',\n",
       " '__getstate__',\n",
       " '__gt__',\n",
       " '__hash__',\n",
       " '__init__',\n",
       " '__init_subclass__',\n",
       " '__iter__',\n",
       " '__le__',\n",
       " '__lt__',\n",
       " '__ne__',\n",
       " '__new__',\n",
       " '__next__',\n",
       " '__reduce__',\n",
       " '__reduce_ex__',\n",
       " '__repr__',\n",
       " '__setattr__',\n",
       " '__sizeof__',\n",
       " '__str__',\n",
       " '__subclasshook__',\n",
       " '_checkClosed',\n",
       " '_checkReadable',\n",
       " '_checkSeekable',\n",
       " '_checkWritable',\n",
       " '_finalizing',\n",
       " 'buffer',\n",
       " 'close',\n",
       " 'closed',\n",
       " 'detach',\n",
       " 'encoding',\n",
       " 'errors',\n",
       " 'fileno',\n",
       " 'flush',\n",
       " 'isatty',\n",
       " 'line_buffering',\n",
       " 'mode',\n",
       " 'name',\n",
       " 'newlines',\n",
       " 'read',\n",
       " 'readable',\n",
       " 'readline',\n",
       " 'readlines',\n",
       " 'reconfigure',\n",
       " 'seek',\n",
       " 'seekable',\n",
       " 'tell',\n",
       " 'truncate',\n",
       " 'writable',\n",
       " 'write',\n",
       " 'write_through',\n",
       " 'writelines']"
      ]
     },
     "execution_count": 13,
     "metadata": {},
     "output_type": "execute_result"
    }
   ],
   "source": [
    "fp.seek(0)\n",
    "dir(fp)"
   ]
  },
  {
   "cell_type": "code",
   "execution_count": 14,
   "metadata": {},
   "outputs": [
    {
     "name": "stdout",
     "output_type": "stream",
     "text": [
      "line1\n",
      "line2\n",
      "line3\n"
     ]
    }
   ],
   "source": [
    "for line in fp:\n",
    "    print(line.strip('\\n'))"
   ]
  },
  {
   "cell_type": "markdown",
   "metadata": {},
   "source": [
    "## Режимы открытия файлов"
   ]
  },
  {
   "cell_type": "markdown",
   "metadata": {},
   "source": [
    "| Обозначение | Комментарий |\n",
    "| :---: | :---: |\n",
    "| **'r'** | Открыть на чтение. Режим по умолчанию.|\n",
    "| **'rb'** | Открыть на чтение бинарный файл.|\n",
    "| **'r+'** | Открыть на запись и чтение.|\n",
    "| **'w'** | Открыть на запись. **Перезаписывает(стирает содержимое) или создает новый файл**|\n",
    "| **'wb'** | как и 'w' но для бинарного файла|\n",
    "| **'w+'** | как и 'w' но позволяет читать из файла|\n",
    "| **'wb+'** | как и 'wb' но позволяет читать из файла|\n",
    "| **'a'** | открыть на запись в конец файла. Создать если не существует|\n",
    "| **'a+'** | открыть на запись в конец файла и чтение. Создать если не существует|\n",
    "| **'ab+'** | как и a+, но для бинарных файлов. Создать если не существует|"
   ]
  },
  {
   "cell_type": "markdown",
   "metadata": {},
   "source": []
  },
  {
   "cell_type": "code",
   "execution_count": 16,
   "metadata": {},
   "outputs": [],
   "source": [
    "fp.close()"
   ]
  },
  {
   "cell_type": "code",
   "execution_count": 19,
   "metadata": {},
   "outputs": [
    {
     "data": {
      "text/plain": [
       "True"
      ]
     },
     "execution_count": 19,
     "metadata": {},
     "output_type": "execute_result"
    }
   ],
   "source": [
    "fp.closed"
   ]
  },
  {
   "cell_type": "markdown",
   "metadata": {},
   "source": [
    "## Запись в файл"
   ]
  },
  {
   "cell_type": "code",
   "execution_count": 33,
   "metadata": {},
   "outputs": [],
   "source": [
    "fp = open('write_to_me.txt','w')"
   ]
  },
  {
   "cell_type": "code",
   "execution_count": 34,
   "metadata": {},
   "outputs": [
    {
     "data": {
      "text/plain": [
       "8"
      ]
     },
     "execution_count": 34,
     "metadata": {},
     "output_type": "execute_result"
    }
   ],
   "source": [
    "fp.write('string1\\n')\n",
    "fp.write('string2\\n')"
   ]
  },
  {
   "cell_type": "code",
   "execution_count": 35,
   "metadata": {},
   "outputs": [
    {
     "ename": "UnsupportedOperation",
     "evalue": "not readable",
     "output_type": "error",
     "traceback": [
      "\u001b[1;31m---------------------------------------------------------------------------\u001b[0m",
      "\u001b[1;31mUnsupportedOperation\u001b[0m                      Traceback (most recent call last)",
      "\u001b[1;32m<ipython-input-35-e880200dd541>\u001b[0m in \u001b[0;36m<module>\u001b[1;34m\u001b[0m\n\u001b[1;32m----> 1\u001b[1;33m \u001b[0mfp\u001b[0m\u001b[1;33m.\u001b[0m\u001b[0mread\u001b[0m\u001b[1;33m(\u001b[0m\u001b[1;33m)\u001b[0m \u001b[1;31m# что будет?\u001b[0m\u001b[1;33m\u001b[0m\u001b[1;33m\u001b[0m\u001b[0m\n\u001b[0m",
      "\u001b[1;31mUnsupportedOperation\u001b[0m: not readable"
     ]
    }
   ],
   "source": [
    "fp.read() # что будет?"
   ]
  },
  {
   "cell_type": "code",
   "execution_count": 36,
   "metadata": {},
   "outputs": [
    {
     "data": {
      "text/plain": [
       "False"
      ]
     },
     "execution_count": 36,
     "metadata": {},
     "output_type": "execute_result"
    }
   ],
   "source": [
    "fp.readable() # is in 'read' mode&"
   ]
  },
  {
   "cell_type": "code",
   "execution_count": 37,
   "metadata": {},
   "outputs": [],
   "source": [
    "fp.close()"
   ]
  },
  {
   "cell_type": "code",
   "execution_count": 38,
   "metadata": {},
   "outputs": [],
   "source": [
    "fp = open('write_to_me.txt', 'r')"
   ]
  },
  {
   "cell_type": "code",
   "execution_count": 40,
   "metadata": {},
   "outputs": [],
   "source": [
    "for line in fp: # вычитывает файл построчно\n",
    "    print(line)"
   ]
  },
  {
   "cell_type": "code",
   "execution_count": 41,
   "metadata": {},
   "outputs": [
    {
     "data": {
      "text/plain": [
       "0"
      ]
     },
     "execution_count": 41,
     "metadata": {},
     "output_type": "execute_result"
    }
   ],
   "source": [
    "fp.seek(0)"
   ]
  },
  {
   "cell_type": "code",
   "execution_count": 42,
   "metadata": {},
   "outputs": [
    {
     "data": {
      "text/plain": [
       "['string1\\n', 'string2\\n']"
      ]
     },
     "execution_count": 42,
     "metadata": {},
     "output_type": "execute_result"
    }
   ],
   "source": [
    "fp.readlines()"
   ]
  },
  {
   "cell_type": "code",
   "execution_count": 28,
   "metadata": {},
   "outputs": [
    {
     "data": {
      "text/plain": [
       "1"
      ]
     },
     "execution_count": 28,
     "metadata": {},
     "output_type": "execute_result"
    }
   ],
   "source": [
    "len(fp.readlines())# сколько строк?"
   ]
  },
  {
   "cell_type": "code",
   "execution_count": 43,
   "metadata": {},
   "outputs": [],
   "source": [
    "fp.close()"
   ]
  },
  {
   "cell_type": "code",
   "execution_count": 45,
   "metadata": {},
   "outputs": [],
   "source": [
    "fp = open('write_to_me.txt','a+')"
   ]
  },
  {
   "cell_type": "code",
   "execution_count": 46,
   "metadata": {},
   "outputs": [
    {
     "data": {
      "text/plain": [
       "17"
      ]
     },
     "execution_count": 46,
     "metadata": {},
     "output_type": "execute_result"
    }
   ],
   "source": [
    "fp.write('yet another line\\n')"
   ]
  },
  {
   "cell_type": "code",
   "execution_count": 47,
   "metadata": {},
   "outputs": [
    {
     "data": {
      "text/plain": [
       "36"
      ]
     },
     "execution_count": 47,
     "metadata": {},
     "output_type": "execute_result"
    }
   ],
   "source": [
    "fp.tell()"
   ]
  },
  {
   "cell_type": "code",
   "execution_count": 48,
   "metadata": {},
   "outputs": [
    {
     "data": {
      "text/plain": [
       "20"
      ]
     },
     "execution_count": 48,
     "metadata": {},
     "output_type": "execute_result"
    }
   ],
   "source": [
    "fp.seek(20)"
   ]
  },
  {
   "cell_type": "code",
   "execution_count": 49,
   "metadata": {},
   "outputs": [
    {
     "data": {
      "text/plain": [
       "'t ano'"
      ]
     },
     "execution_count": 49,
     "metadata": {},
     "output_type": "execute_result"
    }
   ],
   "source": [
    "fp.read(5) # read 5 bytes !!! bytes != symbols"
   ]
  },
  {
   "cell_type": "code",
   "execution_count": 50,
   "metadata": {},
   "outputs": [
    {
     "data": {
      "text/plain": [
       "20"
      ]
     },
     "execution_count": 50,
     "metadata": {},
     "output_type": "execute_result"
    }
   ],
   "source": [
    "fp.seek(20)"
   ]
  },
  {
   "cell_type": "code",
   "execution_count": 51,
   "metadata": {},
   "outputs": [
    {
     "data": {
      "text/plain": [
       "3"
      ]
     },
     "execution_count": 51,
     "metadata": {},
     "output_type": "execute_result"
    }
   ],
   "source": [
    "fp.write('www')"
   ]
  },
  {
   "cell_type": "code",
   "execution_count": 52,
   "metadata": {},
   "outputs": [
    {
     "data": {
      "text/plain": [
       "0"
      ]
     },
     "execution_count": 52,
     "metadata": {},
     "output_type": "execute_result"
    }
   ],
   "source": [
    "fp.seek(0)"
   ]
  },
  {
   "cell_type": "code",
   "execution_count": 53,
   "metadata": {},
   "outputs": [
    {
     "data": {
      "text/plain": [
       "'string1\\nstring2\\nyet another line\\nwww'"
      ]
     },
     "execution_count": 53,
     "metadata": {},
     "output_type": "execute_result"
    }
   ],
   "source": [
    "fp.read()"
   ]
  },
  {
   "cell_type": "code",
   "execution_count": 54,
   "metadata": {},
   "outputs": [],
   "source": [
    "fp.close()"
   ]
  },
  {
   "cell_type": "code",
   "execution_count": 55,
   "metadata": {},
   "outputs": [],
   "source": [
    "fp = open('write_to_me.txt','w')"
   ]
  },
  {
   "cell_type": "code",
   "execution_count": 56,
   "metadata": {},
   "outputs": [
    {
     "data": {
      "text/plain": [
       "10"
      ]
     },
     "execution_count": 56,
     "metadata": {},
     "output_type": "execute_result"
    }
   ],
   "source": [
    "fp.write('По-русскиЁ')"
   ]
  },
  {
   "cell_type": "code",
   "execution_count": 57,
   "metadata": {},
   "outputs": [],
   "source": [
    "fp.write('www')\n",
    "fruits=[\"Orange\\n\",\"Banana\\n\",\"Apple\\n\"]\n",
    "fp.writelines(fruits)"
   ]
  },
  {
   "cell_type": "code",
   "execution_count": 59,
   "metadata": {},
   "outputs": [],
   "source": [
    "fp.close()"
   ]
  },
  {
   "cell_type": "code",
   "execution_count": 60,
   "metadata": {},
   "outputs": [],
   "source": [
    "fp = open('write_to_me.txt','r')"
   ]
  },
  {
   "cell_type": "code",
   "execution_count": 61,
   "metadata": {},
   "outputs": [
    {
     "data": {
      "text/plain": [
       "'По-русскиЁwwwOrange\\nBanana\\nApple\\n'"
      ]
     },
     "execution_count": 61,
     "metadata": {},
     "output_type": "execute_result"
    }
   ],
   "source": [
    "fp.read()"
   ]
  },
  {
   "cell_type": "code",
   "execution_count": 62,
   "metadata": {},
   "outputs": [
    {
     "data": {
      "text/plain": [
       "0"
      ]
     },
     "execution_count": 62,
     "metadata": {},
     "output_type": "execute_result"
    }
   ],
   "source": [
    "fp.seek(0)"
   ]
  },
  {
   "cell_type": "code",
   "execution_count": 63,
   "metadata": {},
   "outputs": [
    {
     "data": {
      "text/plain": [
       "'По-русскиЁwwwOrange\\nBanana\\nApple\\n'"
      ]
     },
     "execution_count": 63,
     "metadata": {},
     "output_type": "execute_result"
    }
   ],
   "source": [
    "fp.read()"
   ]
  },
  {
   "cell_type": "code",
   "execution_count": 96,
   "metadata": {},
   "outputs": [],
   "source": [
    "fp.close()"
   ]
  },
  {
   "cell_type": "markdown",
   "metadata": {},
   "source": [
    "***write() - пишет файл в буфер. Реальная запись на диск происходит при вызове close()***"
   ]
  },
  {
   "cell_type": "markdown",
   "metadata": {},
   "source": [
    "## Как хранить (и извлекать) сложные структуры на диске?\n",
    "## JSON!! (Pickle)\n",
    "\n",
    "### JSON - JavaScript Object Notation. Способ объмена информацией между системами в текстовом виде.\n",
    "\n",
    "```\n",
    "{\n",
    "   \"firstName\": \"Иван\",\n",
    "   \"lastName\": \"Иванов\",\n",
    "   \"address\": {\n",
    "       \"streetAddress\": \"Московское ш., 101, кв.101\",\n",
    "       \"city\": \"Ленинград\",\n",
    "       \"postalCode\": \"101101\"\n",
    "   },\n",
    "   \"phoneNumbers\": [\n",
    "       \"812 123-1234\",\n",
    "       \"916 123-4567\"\n",
    "   ]\n",
    "}\n",
    "```"
   ]
  },
  {
   "cell_type": "code",
   "execution_count": 91,
   "metadata": {},
   "outputs": [],
   "source": [
    "import json\n",
    "complicated_data = {\n",
    "   \"firstName\": \"Иван\",\n",
    "   \"lastName\": \"Иванов\",\n",
    "   \"address\": {\n",
    "       \"streetAddress\": \"Московское ш., 101, кв.101\",\n",
    "       \"city\": \"Ленинград\",\n",
    "       \"postalCode\": \"101101\"\n",
    "   },\n",
    "   \"phoneNumbers\": [\n",
    "       \"812 123-1234\",\n",
    "       \"916 123-4567\"\n",
    "   ]\n",
    "}"
   ]
  },
  {
   "cell_type": "code",
   "execution_count": 94,
   "metadata": {},
   "outputs": [],
   "source": [
    "fp = open('dict_storage.txt', 'wb')"
   ]
  },
  {
   "cell_type": "code",
   "execution_count": 95,
   "metadata": {},
   "outputs": [
    {
     "ename": "TypeError",
     "evalue": "a bytes-like object is required, not 'dict'",
     "output_type": "error",
     "traceback": [
      "\u001b[1;31m---------------------------------------------------------------------------\u001b[0m",
      "\u001b[1;31mTypeError\u001b[0m                                 Traceback (most recent call last)",
      "\u001b[1;32m<ipython-input-95-ae8d634d2de3>\u001b[0m in \u001b[0;36m<module>\u001b[1;34m\u001b[0m\n\u001b[1;32m----> 1\u001b[1;33m \u001b[0mfp\u001b[0m\u001b[1;33m.\u001b[0m\u001b[0mwrite\u001b[0m\u001b[1;33m(\u001b[0m\u001b[0mcomplicated_data\u001b[0m\u001b[1;33m)\u001b[0m \u001b[1;31m# что будет?\u001b[0m\u001b[1;33m\u001b[0m\u001b[1;33m\u001b[0m\u001b[0m\n\u001b[0m",
      "\u001b[1;31mTypeError\u001b[0m: a bytes-like object is required, not 'dict'"
     ]
    }
   ],
   "source": [
    "fp.write(complicated_data) # что будет?"
   ]
  },
  {
   "cell_type": "code",
   "execution_count": 93,
   "metadata": {},
   "outputs": [],
   "source": [
    "fp.close()"
   ]
  },
  {
   "cell_type": "code",
   "execution_count": 71,
   "metadata": {},
   "outputs": [],
   "source": [
    "fp = open('dict_storage.txt', 'r')"
   ]
  },
  {
   "cell_type": "code",
   "execution_count": 72,
   "metadata": {},
   "outputs": [
    {
     "data": {
      "text/plain": [
       "\"{'firstName': 'Иван', 'lastName': 'Иванов', 'address': {'streetAddress': 'Московское ш., 101, кв.101', 'city': 'Ленинград', 'postalCode': '101101'}, 'phoneNumbers': ['812 123-1234', '916 123-4567']}\""
      ]
     },
     "execution_count": 72,
     "metadata": {},
     "output_type": "execute_result"
    }
   ],
   "source": [
    "fp.read()"
   ]
  },
  {
   "cell_type": "code",
   "execution_count": 97,
   "metadata": {},
   "outputs": [],
   "source": [
    "fp = open('dict_storage1.txt', 'wb')"
   ]
  },
  {
   "cell_type": "code",
   "execution_count": 98,
   "metadata": {},
   "outputs": [],
   "source": [
    "import pickle"
   ]
  },
  {
   "cell_type": "code",
   "execution_count": 92,
   "metadata": {},
   "outputs": [
    {
     "data": {
      "text/plain": [
       "b\"\\x80\\x03}q\\x00(X\\t\\x00\\x00\\x00firstNameq\\x01X\\x08\\x00\\x00\\x00\\xd0\\x98\\xd0\\xb2\\xd0\\xb0\\xd0\\xbdq\\x02X\\x08\\x00\\x00\\x00lastNameq\\x03X\\x0c\\x00\\x00\\x00\\xd0\\x98\\xd0\\xb2\\xd0\\xb0\\xd0\\xbd\\xd0\\xbe\\xd0\\xb2q\\x04X\\x07\\x00\\x00\\x00addressq\\x05}q\\x06(X\\r\\x00\\x00\\x00streetAddressq\\x07X'\\x00\\x00\\x00\\xd0\\x9c\\xd0\\xbe\\xd1\\x81\\xd0\\xba\\xd0\\xbe\\xd0\\xb2\\xd1\\x81\\xd0\\xba\\xd0\\xbe\\xd0\\xb5 \\xd1\\x88., 101, \\xd0\\xba\\xd0\\xb2.101q\\x08X\\x04\\x00\\x00\\x00cityq\\tX\\x12\\x00\\x00\\x00\\xd0\\x9b\\xd0\\xb5\\xd0\\xbd\\xd0\\xb8\\xd0\\xbd\\xd0\\xb3\\xd1\\x80\\xd0\\xb0\\xd0\\xb4q\\nX\\n\\x00\\x00\\x00postalCodeq\\x0bX\\x06\\x00\\x00\\x00101101q\\x0cuX\\x0c\\x00\\x00\\x00phoneNumbersq\\r]q\\x0e(X\\x0c\\x00\\x00\\x00812 123-1234q\\x0fX\\x0c\\x00\\x00\\x00916 123-4567q\\x10eu.\""
      ]
     },
     "execution_count": 92,
     "metadata": {},
     "output_type": "execute_result"
    }
   ],
   "source": [
    "pickle.dumps(complicated_data)"
   ]
  },
  {
   "cell_type": "code",
   "execution_count": 99,
   "metadata": {},
   "outputs": [
    {
     "data": {
      "text/plain": [
       "286"
      ]
     },
     "execution_count": 99,
     "metadata": {},
     "output_type": "execute_result"
    }
   ],
   "source": [
    "fp.write(pickle.dumps(complicated_data)) # что будет?"
   ]
  },
  {
   "cell_type": "code",
   "execution_count": 102,
   "metadata": {
    "scrolled": true
   },
   "outputs": [
    {
     "data": {
      "text/plain": [
       "bytes"
      ]
     },
     "execution_count": 102,
     "metadata": {},
     "output_type": "execute_result"
    }
   ],
   "source": [
    "fp.close()\n",
    "fp = open('dict_storage1.txt', 'rb')\n",
    "file_content = fp.read()\n",
    "fp.close()\n",
    "type(file_content)"
   ]
  },
  {
   "cell_type": "code",
   "execution_count": 103,
   "metadata": {},
   "outputs": [
    {
     "data": {
      "text/plain": [
       "{'firstName': 'Иван',\n",
       " 'lastName': 'Иванов',\n",
       " 'address': {'streetAddress': 'Московское ш., 101, кв.101',\n",
       "  'city': 'Ленинград',\n",
       "  'postalCode': '101101'},\n",
       " 'phoneNumbers': ['812 123-1234', '916 123-4567']}"
      ]
     },
     "execution_count": 103,
     "metadata": {},
     "output_type": "execute_result"
    }
   ],
   "source": [
    "pickle.loads(file_content)"
   ]
  },
  {
   "cell_type": "code",
   "execution_count": 85,
   "metadata": {},
   "outputs": [],
   "source": [
    "new_dict = json.loads(file_content)"
   ]
  },
  {
   "cell_type": "code",
   "execution_count": 86,
   "metadata": {},
   "outputs": [
    {
     "data": {
      "text/plain": [
       "dict"
      ]
     },
     "execution_count": 86,
     "metadata": {},
     "output_type": "execute_result"
    }
   ],
   "source": [
    "type(new_dict)"
   ]
  },
  {
   "cell_type": "code",
   "execution_count": 87,
   "metadata": {},
   "outputs": [
    {
     "data": {
      "text/plain": [
       "'Иван'"
      ]
     },
     "execution_count": 87,
     "metadata": {},
     "output_type": "execute_result"
    }
   ],
   "source": [
    "new_dict[\"firstName\"]"
   ]
  },
  {
   "cell_type": "markdown",
   "metadata": {},
   "source": [
    "## Постоянно надо писать close()...\n",
    "### Можно забыть!\n",
    "#### Есть выход! Контекстный менеджер **WITH**"
   ]
  },
  {
   "cell_type": "code",
   "execution_count": 105,
   "metadata": {},
   "outputs": [
    {
     "name": "stdout",
     "output_type": "stream",
     "text": [
      "Am I closed? True\n",
      "b\"\\x80\\x03}q\\x00(X\\t\\x00\\x00\\x00firstNameq\\x01X\\x08\\x00\\x00\\x00\\xd0\\x98\\xd0\\xb2\\xd0\\xb0\\xd0\\xbdq\\x02X\\x08\\x00\\x00\\x00lastNameq\\x03X\\x0c\\x00\\x00\\x00\\xd0\\x98\\xd0\\xb2\\xd0\\xb0\\xd0\\xbd\\xd0\\xbe\\xd0\\xb2q\\x04X\\x07\\x00\\x00\\x00addressq\\x05}q\\x06(X\\r\\x00\\x00\\x00streetAddressq\\x07X'\\x00\\x00\\x00\\xd0\\x9c\\xd0\\xbe\\xd1\\x81\\xd0\\xba\\xd0\\xbe\\xd0\\xb2\\xd1\\x81\\xd0\\xba\\xd0\\xbe\\xd0\\xb5 \\xd1\\x88., 101, \\xd0\\xba\\xd0\\xb2.101q\\x08X\\x04\\x00\\x00\\x00cityq\\tX\\x12\\x00\\x00\\x00\\xd0\\x9b\\xd0\\xb5\\xd0\\xbd\\xd0\\xb8\\xd0\\xbd\\xd0\\xb3\\xd1\\x80\\xd0\\xb0\\xd0\\xb4q\\nX\\n\\x00\\x00\\x00postalCodeq\\x0bX\\x06\\x00\\x00\\x00101101q\\x0cuX\\x0c\\x00\\x00\\x00phoneNumbersq\\r]q\\x0e(X\\x0c\\x00\\x00\\x00812 123-1234q\\x0fX\\x0c\\x00\\x00\\x00916 123-4567q\\x10eu.\"\n"
     ]
    }
   ],
   "source": [
    "with open('dict_storage1.txt', 'rb') as f:\n",
    "    # тело контекста\n",
    "    # выполнены подготовительные мероприятия. (в нашем случае открыт файл)\n",
    "    my_file = f.read()\n",
    "    # после выполнения тела выполняются завершающие операции (закрытие файла)\n",
    "print('Am I closed?', f.closed)\n",
    "print(my_file)"
   ]
  },
  {
   "cell_type": "code",
   "execution_count": 106,
   "metadata": {},
   "outputs": [
    {
     "data": {
      "text/plain": [
       "['__call__',\n",
       " '__class__',\n",
       " '__delattr__',\n",
       " '__dir__',\n",
       " '__doc__',\n",
       " '__eq__',\n",
       " '__format__',\n",
       " '__ge__',\n",
       " '__getattribute__',\n",
       " '__gt__',\n",
       " '__hash__',\n",
       " '__init__',\n",
       " '__init_subclass__',\n",
       " '__le__',\n",
       " '__lt__',\n",
       " '__module__',\n",
       " '__name__',\n",
       " '__ne__',\n",
       " '__new__',\n",
       " '__qualname__',\n",
       " '__reduce__',\n",
       " '__reduce_ex__',\n",
       " '__repr__',\n",
       " '__self__',\n",
       " '__setattr__',\n",
       " '__sizeof__',\n",
       " '__str__',\n",
       " '__subclasshook__',\n",
       " '__text_signature__']"
      ]
     },
     "execution_count": 106,
     "metadata": {},
     "output_type": "execute_result"
    }
   ],
   "source": [
    "dir(open)"
   ]
  },
  {
   "cell_type": "markdown",
   "metadata": {},
   "source": [
    "### Файловые пути\n",
    "```\n",
    "with open('dict_storage1.txt', 'r') as f:\n",
    "    # тело контекста\n",
    "    pass\n",
    "```\n",
    "открывает файл в тойде директории, что и файл программы.\n",
    "А что если необходимо открыть файл в произвольном месте?"
   ]
  },
  {
   "cell_type": "code",
   "execution_count": 243,
   "metadata": {},
   "outputs": [],
   "source": [
    "f = open('D:\\\\projects\\\\pythonIT\\\\lesson4\\write_to_me.txt') # в чем проблема?"
   ]
  },
  {
   "cell_type": "code",
   "execution_count": 242,
   "metadata": {},
   "outputs": [],
   "source": [
    "f.close()"
   ]
  },
  {
   "cell_type": "code",
   "execution_count": 107,
   "metadata": {},
   "outputs": [],
   "source": [
    "import os"
   ]
  },
  {
   "cell_type": "code",
   "execution_count": 110,
   "metadata": {},
   "outputs": [
    {
     "ename": "NameError",
     "evalue": "name '__file__' is not defined",
     "output_type": "error",
     "traceback": [
      "\u001b[1;31m----------------------------------------------------------------\u001b[0m",
      "\u001b[1;31mNameError\u001b[0m                      Traceback (most recent call last)",
      "\u001b[1;32m<ipython-input-110-a729d5997b8c>\u001b[0m in \u001b[0;36m<module>\u001b[1;34m\u001b[0m\n\u001b[1;32m----> 1\u001b[1;33m \u001b[0mos\u001b[0m\u001b[1;33m.\u001b[0m\u001b[0mpath\u001b[0m\u001b[1;33m.\u001b[0m\u001b[0mabspath\u001b[0m\u001b[1;33m(\u001b[0m\u001b[0m__file__\u001b[0m\u001b[1;33m)\u001b[0m\u001b[1;33m\u001b[0m\u001b[1;33m\u001b[0m\u001b[0m\n\u001b[0m",
      "\u001b[1;31mNameError\u001b[0m: name '__file__' is not defined"
     ]
    }
   ],
   "source": [
    "os.path.abspath(__)"
   ]
  },
  {
   "cell_type": "code",
   "execution_count": 108,
   "metadata": {},
   "outputs": [
    {
     "data": {
      "text/plain": [
       "'C:\\\\Program Files\\\\Python37\\\\lib\\\\ntpath.py'"
      ]
     },
     "execution_count": 108,
     "metadata": {},
     "output_type": "execute_result"
    }
   ],
   "source": [
    "os.path.__file__\n",
    "# dir(os.path)"
   ]
  },
  {
   "cell_type": "markdown",
   "metadata": {},
   "source": [
    "## Блокировка файла"
   ]
  },
  {
   "cell_type": "code",
   "execution_count": 112,
   "metadata": {},
   "outputs": [
    {
     "ename": "ModuleNotFoundError",
     "evalue": "No module named 'filelock'",
     "output_type": "error",
     "traceback": [
      "\u001b[1;31m----------------------------------------------------------------\u001b[0m",
      "\u001b[1;31mModuleNotFoundError\u001b[0m            Traceback (most recent call last)",
      "\u001b[1;32m<ipython-input-112-fa7cdb4f736a>\u001b[0m in \u001b[0;36m<module>\u001b[1;34m\u001b[0m\n\u001b[0;32m      1\u001b[0m \u001b[1;31m# pip install filelock\u001b[0m\u001b[1;33m\u001b[0m\u001b[1;33m\u001b[0m\u001b[1;33m\u001b[0m\u001b[0m\n\u001b[1;32m----> 2\u001b[1;33m \u001b[1;32mfrom\u001b[0m \u001b[0mfilelock\u001b[0m \u001b[1;32mimport\u001b[0m \u001b[0mFileLock\u001b[0m\u001b[1;33m\u001b[0m\u001b[1;33m\u001b[0m\u001b[0m\n\u001b[0m",
      "\u001b[1;31mModuleNotFoundError\u001b[0m: No module named 'filelock'"
     ]
    }
   ],
   "source": [
    "# pip install filelock\n",
    "from filelock import FileLock\n"
   ]
  },
  {
   "cell_type": "code",
   "execution_count": 113,
   "metadata": {},
   "outputs": [
    {
     "ename": "NameError",
     "evalue": "name 'FileLock' is not defined",
     "output_type": "error",
     "traceback": [
      "\u001b[1;31m----------------------------------------------------------------\u001b[0m",
      "\u001b[1;31mNameError\u001b[0m                      Traceback (most recent call last)",
      "\u001b[1;32m<ipython-input-113-6a63f920ea63>\u001b[0m in \u001b[0;36m<module>\u001b[1;34m\u001b[0m\n\u001b[1;32m----> 1\u001b[1;33m \u001b[0mlock\u001b[0m \u001b[1;33m=\u001b[0m \u001b[0mFileLock\u001b[0m\u001b[1;33m(\u001b[0m\u001b[1;34m'lock.lock'\u001b[0m\u001b[1;33m)\u001b[0m\u001b[1;33m\u001b[0m\u001b[1;33m\u001b[0m\u001b[0m\n\u001b[0m\u001b[0;32m      2\u001b[0m \u001b[1;32mwith\u001b[0m \u001b[0mlock\u001b[0m\u001b[1;33m:\u001b[0m\u001b[1;33m\u001b[0m\u001b[1;33m\u001b[0m\u001b[0m\n\u001b[0;32m      3\u001b[0m     \u001b[0mopen\u001b[0m\u001b[1;33m(\u001b[0m\u001b[1;34m'test.txt'\u001b[0m\u001b[1;33m,\u001b[0m \u001b[1;34m'a'\u001b[0m\u001b[1;33m)\u001b[0m\u001b[1;33m.\u001b[0m\u001b[0mwrite\u001b[0m\u001b[1;33m(\u001b[0m\u001b[1;34m'a string'\u001b[0m\u001b[1;33m)\u001b[0m\u001b[1;33m\u001b[0m\u001b[1;33m\u001b[0m\u001b[0m\n",
      "\u001b[1;31mNameError\u001b[0m: name 'FileLock' is not defined"
     ]
    }
   ],
   "source": [
    "lock = FileLock('lock.lock')\n",
    "with lock:\n",
    "    open('test.txt', 'a').write('a string')\n",
    "    input('www')"
   ]
  },
  {
   "cell_type": "markdown",
   "metadata": {},
   "source": [
    "| Тип доступа | Время |\n",
    "| :---: | --- |\n",
    "| Обращение к кэшу L1 | 0.5 нс |\n",
    "| Ошибка при предсказании условного перехода | 5 нс |\n",
    "| Обращение к кэшу L2 | 7 нс |\n",
    "| Открытие/закрытие мьютекса | 25 нс |\n",
    "| Обращение к главной памяти | 100 нс |\n",
    "| Сжатие 1 Кб быстрым алгоритмом | 3,000 нс |\n",
    "| Пересылка 2Кб по сети со скоростью 1 Гб/с | 20,000 нс |\n",
    "| Чтение 1 Мб последовательно из главной памяти | 250,000 нс |\n",
    "| Передача сообщения туда/обратно в одном дата-центре | 500,000 нс |\n",
    "| Произвольный доступ к жёсткому диску | 10,000,000 нс |\n",
    "| Чтение 1 Мб последовательно с жёсткого диска | 20,000,000 нс |\n",
    "| Передача пакета из Калифорнии в Нидерланды и обратно | 150,000,000 нс |"
   ]
  },
  {
   "cell_type": "markdown",
   "metadata": {},
   "source": [
    "# Парсинг CSV"
   ]
  },
  {
   "cell_type": "code",
   "execution_count": 30,
   "metadata": {
    "scrolled": false
   },
   "outputs": [
    {
     "name": "stdout",
     "output_type": "stream",
     "text": [
      "Файл содержит заголовки? (д/н)н\n",
      "Используемый разделитель: ,\n",
      "id,name,age\n",
      "\n",
      "1,John,22\n",
      "\n",
      "2,Mike,25\n",
      "\n",
      "3,Rob,50\n",
      "\n",
      "4,Tony,40\n",
      "\n",
      "{'i': ['name', 'age'], '1': ['John', '22'], '2': ['Mike', '25'], '3': ['Rob', '50'], '4': ['Tony', '40']}\n"
     ]
    }
   ],
   "source": [
    "headers = input(\"Файл содержит заголовки? (д/н)\")\n",
    "delim = input(\"Используемый разделитель: \")\n",
    "result = {}\n",
    "# парсинг тут\n",
    "print(result)"
   ]
  },
  {
   "cell_type": "markdown",
   "metadata": {},
   "source": [
    "## Unicode, UTF-х\n",
    "\n",
    "[unicode](https://ru.wikipedia.org/wiki/%D0%AE%D0%BD%D0%B8%D0%BA%D0%BE%D0%B4)\n",
    "\n",
    "[UTF-8](https://ru.wikipedia.org/wiki/UTF-8)\n",
    "\n",
    "Ё != Ё"
   ]
  },
  {
   "cell_type": "code",
   "execution_count": null,
   "metadata": {},
   "outputs": [],
   "source": []
  }
 ],
 "metadata": {
  "kernelspec": {
   "display_name": "Python 3",
   "language": "python",
   "name": "python3"
  },
  "language_info": {
   "codemirror_mode": {
    "name": "ipython",
    "version": 3
   },
   "file_extension": ".py",
   "mimetype": "text/x-python",
   "name": "python",
   "nbconvert_exporter": "python",
   "pygments_lexer": "ipython3",
   "version": "3.7.2"
  }
 },
 "nbformat": 4,
 "nbformat_minor": 2
}
